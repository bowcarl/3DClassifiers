{
  "nbformat": 4,
  "nbformat_minor": 0,
  "metadata": {
    "colab": {
      "provenance": [],
      "gpuType": "T4"
    },
    "kernelspec": {
      "name": "python3",
      "display_name": "Python 3"
    },
    "accelerator": "GPU"
  },
  "cells": [
    {
      "cell_type": "code",
      "source": [
        "from google.colab import drive\n",
        "drive.mount(\"/content/drive\")"
      ],
      "metadata": {
        "colab": {
          "base_uri": "https://localhost:8080/"
        },
        "id": "KlFM0_XXqptg",
        "outputId": "5e33bab6-8932-4d89-df18-9b4aa80198a0"
      },
      "execution_count": 1,
      "outputs": [
        {
          "output_type": "stream",
          "name": "stdout",
          "text": [
            "Drive already mounted at /content/drive; to attempt to forcibly remount, call drive.mount(\"/content/drive\", force_remount=True).\n"
          ]
        }
      ]
    },
    {
      "cell_type": "code",
      "source": [
        "import sys\n",
        "sys.path.append(\"/content/drive/My Drive/GoogleColab/pytorch3d_packages\")"
      ],
      "metadata": {
        "id": "P6tKTq5griEi"
      },
      "execution_count": 2,
      "outputs": []
    },
    {
      "cell_type": "code",
      "metadata": {
        "id": "BBNy7G2PpAw6",
        "colab": {
          "base_uri": "https://localhost:8080/"
        },
        "outputId": "584217e4-6236-4faa-c589-47e3fe56e996"
      },
      "source": [
        "# Imports\n",
        "import os\n",
        "import zipfile\n",
        "import torch\n",
        "import torch.nn as nn\n",
        "import torch.nn.functional as F\n",
        "import warnings\n",
        "from torch.utils.data import DataLoader, random_split\n",
        "\n",
        "from pytorch3d.datasets import ShapeNetCore\n",
        "from pytorch3d.structures import Meshes\n",
        "from pytorch3d.ops import GraphConv\n",
        "\n",
        "# Paths\n",
        "zip_path = \"/content/drive/MyDrive/GoogleColab/ShapeNetCore.zip\"\n",
        "extract_path = \"/content/ShapeNetCore/ShapeNetCore\"\n",
        "\n",
        "# Extract zip if not already extracted\n",
        "if not os.path.exists(extract_path):\n",
        "    print(f\"Extracting {zip_path} to {extract_path} ...\")\n",
        "    with zipfile.ZipFile(zip_path, 'r') as zip_ref:\n",
        "        zip_ref.extractall(\"/content/ShapeNetCore\")\n",
        "    print(\"Extraction completed\")\n",
        "\n",
        "# ClassNames\n",
        "SYNSET_TO_NAME = {\n",
        "    \"02808440\": \"bathtub\",\n",
        "    \"03642806\": \"laptop\",\n",
        "    \"02992529\": \"cellphone\",\n",
        "    \"03211117\": \"display\",\n",
        "    \"03046257\": \"clock\"\n",
        "}\n",
        "\n",
        "# Verify extraction\n",
        "top_level_ids = os.listdir(extract_path)\n",
        "top_level_names = [SYNSET_TO_NAME.get(syn, syn) for syn in top_level_ids]\n",
        "print(\"Top-level classes:\", top_level_names)\n",
        "\n",
        "# Removes warning about other classes\n",
        "warnings.filterwarnings(\n",
        "    \"ignore\",\n",
        "    message=\"The following categories are included in ShapeNetCore ver.2's official mapping.*\"\n",
        ")\n",
        "\n",
        "# Dataset\n",
        "def build_shapenet_dataset(root_dir, synsets=None):\n",
        "    \"\"\"\n",
        "    Use built-in PyTorch3D ShapeNetCore loader.\n",
        "    \"\"\"\n",
        "    categories = [\"03642806\", \"03211117\", \"03046257\", \"02992529\", \"02808440\"]\n",
        "    dataset = ShapeNetCore(\n",
        "        data_dir=root_dir,\n",
        "        synsets=categories,\n",
        "        version=2,\n",
        "        load_textures=False # Textures are not needed for classification\n",
        "    )\n",
        "    print(f\"Detected {len(dataset)} meshes across {len(dataset.synset_ids)} classes.\")\n",
        "    return dataset\n",
        "\n",
        "# Model\n",
        "class SimpleGraphCNN(nn.Module):\n",
        "    def __init__(self, num_classes):\n",
        "        super().__init__()\n",
        "        self.conv1 = GraphConv(3, 64) # Input: 3D vertex coordinates -> 64 features\n",
        "        self.conv2 = GraphConv(64, 128) # 64 -> 128 features\n",
        "        self.conv3 = GraphConv(128, 256) # 128 -> 256 features\n",
        "        self.fc1 = nn.Linear(256, 128) # Fully connected Layer\n",
        "        self.fc2 = nn.Linear(128, num_classes) # Output layer\n",
        "\n",
        "    def forward(self, meshes: Meshes):\n",
        "        x = meshes.verts_packed() # All vertices of all meshes\n",
        "        edges = meshes.edges_packed() # All edges of all meshes\n",
        "\n",
        "        # Apply 3 GCN layers with ReLU activations\n",
        "        x = F.relu(self.conv1(x, edges))\n",
        "        x = F.relu(self.conv2(x, edges))\n",
        "        x = F.relu(self.conv3(x, edges))\n",
        "\n",
        "        # Compute per-mesh global feature by averaging vertex features\n",
        "        num_verts_per_mesh = meshes.num_verts_per_mesh()\n",
        "        batch_index = torch.cat([torch.full((n,), i, device=x.device)\n",
        "                                 for i, n in enumerate(num_verts_per_mesh)])\n",
        "\n",
        "        sum_features = torch.zeros(len(num_verts_per_mesh), x.size(1), device=x.device)\n",
        "        sum_features.index_add_(0, batch_index, x)\n",
        "        avg_features = sum_features / num_verts_per_mesh.view(-1, 1).float()\n",
        "\n",
        "        # Apply fully connected layers for final class prediction\n",
        "        x = F.relu(self.fc1(avg_features))\n",
        "        x = self.fc2(x)\n",
        "        return x\n",
        "\n",
        "# Training Loop\n",
        "def train_model(zip_path=zip_path, extract_path=extract_path, epochs=5, batch_size=4, lr=1e-3, device=None):\n",
        "    device = device or torch.device(\"cpu\")\n",
        "\n",
        "    dataset = build_shapenet_dataset(extract_path)\n",
        "    if len(dataset) == 0:\n",
        "        raise RuntimeError(\"Dataset is empty — check .obj files and folder structure!\")\n",
        "\n",
        "    # Build a consistent label map from synset_id to class index\n",
        "    synset_to_idx = {sid: i for i, sid in enumerate(dataset.synset_ids)}\n",
        "    idx_to_name = {i: SYNSET_TO_NAME.get(sid, sid) for sid, i in synset_to_idx.items()}\n",
        "\n",
        "    # --- Collate function compatible with ShapeNetCore ---\n",
        "    def collate_mesh_batch(batch):\n",
        "        verts_list = [item[\"verts\"] for item in batch]\n",
        "        faces_list = [item[\"faces\"] for item in batch]\n",
        "        # Fix warning by converting to long on device instead of creating a new tensor\n",
        "        labels = torch.as_tensor([synset_to_idx[item[\"synset_id\"]] for item in batch], dtype=torch.long)\n",
        "        return {\"mesh\": Meshes(verts=verts_list, faces=faces_list), \"labels\": labels}\n",
        "\n",
        "    # Split the dataset into training and validation (80/20)\n",
        "    train_size = int(0.8 * len(dataset))\n",
        "    val_size = len(dataset) - train_size\n",
        "    train_dataset, val_dataset = random_split(dataset, [train_size, val_size])\n",
        "\n",
        "    train_loader = DataLoader(train_dataset, batch_size=batch_size, shuffle=True, collate_fn=collate_mesh_batch)\n",
        "    val_loader = DataLoader(val_dataset, batch_size=batch_size, shuffle=False, collate_fn=collate_mesh_batch)\n",
        "\n",
        "    # Initialize the graph classifier, optimizer, and loss function\n",
        "    model = SimpleGraphCNN(num_classes=len(dataset.synset_ids)).to(device)\n",
        "    optimizer = torch.optim.Adam(model.parameters(), lr=lr)\n",
        "    criterion = nn.CrossEntropyLoss()\n",
        "\n",
        "    for epoch in range(epochs):\n",
        "        model.train()\n",
        "        for batch in train_loader:\n",
        "            meshes = batch['mesh'].to(device)\n",
        "            labels = batch['labels'].to(device, dtype=torch.long)  # Fix warning\n",
        "            optimizer.zero_grad()\n",
        "            outputs = model(meshes)\n",
        "            loss = criterion(outputs, labels)\n",
        "            loss.backward()\n",
        "            optimizer.step()\n",
        "\n",
        "        model.eval()\n",
        "        val_loss, correct, total = 0, 0, 0\n",
        "        with torch.no_grad():\n",
        "            for batch in val_loader:\n",
        "                meshes = batch['mesh'].to(device)\n",
        "                labels = batch['labels'].to(device, dtype=torch.long)\n",
        "                outputs = model(meshes)\n",
        "                loss = criterion(outputs, labels)\n",
        "                val_loss += loss.item() * labels.size(0)\n",
        "                _, predicted = outputs.max(1)\n",
        "                total += labels.size(0)\n",
        "                correct += predicted.eq(labels).sum().item()\n",
        "\n",
        "        val_acc = 100. * correct / total\n",
        "\n",
        "        # Print only validation loss and accuracy\n",
        "        print(f\"Epoch {epoch+1}/{epochs} - ValLoss: {val_loss/len(val_loader.dataset):.4f}, ValAcc: {val_acc:.2f}%\")\n",
        "\n",
        "    return model\n",
        "\n",
        "#  Run training classifying 3D figures\n",
        "if __name__ == \"__main__\":\n",
        "    model = train_model(epochs=5, batch_size=4, lr=1e-3)\n"
      ],
      "execution_count": 7,
      "outputs": [
        {
          "output_type": "stream",
          "name": "stdout",
          "text": [
            "Top-level classes: ['laptop', 'display', 'bathtub', 'clock', 'cellphone']\n",
            "Detected 3891 meshes across 3891 classes.\n",
            "Epoch 1/5 - ValLoss: 1.0349, ValAcc: 46.73%\n",
            "Epoch 2/5 - ValLoss: 0.7785, ValAcc: 68.93%\n",
            "Epoch 3/5 - ValLoss: 0.6985, ValAcc: 74.58%\n",
            "Epoch 4/5 - ValLoss: 0.6159, ValAcc: 77.92%\n",
            "Epoch 5/5 - ValLoss: 0.6734, ValAcc: 75.99%\n"
          ]
        }
      ]
    },
    {
      "cell_type": "code",
      "source": [],
      "metadata": {
        "id": "eU4LZSIlFkjg"
      },
      "execution_count": null,
      "outputs": []
    }
  ]
}