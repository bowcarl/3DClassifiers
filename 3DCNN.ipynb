{
  "nbformat": 4,
  "nbformat_minor": 0,
  "metadata": {
    "colab": {
      "provenance": [],
      "gpuType": "T4"
    },
    "kernelspec": {
      "name": "python3",
      "display_name": "Python 3"
    },
    "accelerator": "GPU"
  },
  "cells": [
    {
      "cell_type": "code",
      "source": [
        "from google.colab import drive\n",
        "drive.mount(\"/content/drive\")"
      ],
      "metadata": {
        "colab": {
          "base_uri": "https://localhost:8080/"
        },
        "id": "KlFM0_XXqptg",
        "outputId": "5fd40780-de32-483f-eff6-81c6fc00b606"
      },
      "execution_count": 1,
      "outputs": [
        {
          "output_type": "stream",
          "name": "stdout",
          "text": [
            "Mounted at /content/drive\n"
          ]
        }
      ]
    },
    {
      "cell_type": "code",
      "source": [
        "import sys\n",
        "import os\n",
        "sys.path.append(\"/content/drive/My Drive/GoogleColab/pytorch3d_packages\")"
      ],
      "metadata": {
        "id": "P6tKTq5griEi"
      },
      "execution_count": 2,
      "outputs": []
    },
    {
      "cell_type": "markdown",
      "source": [],
      "metadata": {
        "id": "8VUktYDYrhbq"
      }
    },
    {
      "cell_type": "code",
      "metadata": {
        "id": "BBNy7G2PpAw6",
        "colab": {
          "base_uri": "https://localhost:8080/"
        },
        "outputId": "a5c7e5dd-677e-4f29-b8c6-90315e733899"
      },
      "source": [
        "# --- Imports -------------------------------------------------------------------\n",
        "import os, glob, numpy as np, zipfile\n",
        "import torch\n",
        "import torch.nn as nn\n",
        "import torch.nn.functional as F\n",
        "from torch.utils.data import Dataset, DataLoader, random_split\n",
        "\n",
        "# --- Paths ---------------------------------------------------------------------\n",
        "zip_path = \"/content/drive/MyDrive/GoogleColab/ShapeNetCore.zip\"\n",
        "extract_path = \"/content/ShapeNetCore/ShapeNetCore\"\n",
        "\n",
        "# Extract zip if not already extracted\n",
        "if not os.path.exists(extract_path):\n",
        "    print(f\"Extracting {zip_path} to {extract_path} ...\")\n",
        "    with zipfile.ZipFile(zip_path, 'r') as zip_ref:\n",
        "        zip_ref.extractall(\"/content/ShapeNetCore\")\n",
        "    print(\"Extraction complete.\")\n",
        "\n",
        "# Verify extraction\n",
        "print(\"Top-level classes:\", os.listdir(extract_path))\n",
        "\n",
        "# --- Binvox Reader -------------------------------------------------------------\n",
        "def read_binvox(filepath):\n",
        "    \"\"\"Read .binvox file and return voxel grid as numpy array.\"\"\"\n",
        "    with open(filepath, \"rb\") as f:\n",
        "        line = f.readline().decode(\"ascii\").strip()\n",
        "        if not line.startswith(\"#binvox\"):\n",
        "            raise IOError(\"Not a binvox file\")\n",
        "        dims, translate, scale = None, None, None\n",
        "        while True:\n",
        "            line = f.readline().decode(\"ascii\").strip()\n",
        "            if line.startswith(\"dim\"):\n",
        "                dims = list(map(int, line.split()[1:]))\n",
        "            elif line.startswith(\"translate\"):\n",
        "                translate = list(map(float, line.split()[1:]))\n",
        "            elif line.startswith(\"scale\"):\n",
        "                scale = float(line.split()[1])\n",
        "            elif line.startswith(\"data\"):\n",
        "                break\n",
        "        if dims is None:\n",
        "            raise IOError(\"Missing dimensions in binvox\")\n",
        "\n",
        "        # Convert compressed .binvox data into a 3D voxel grid\n",
        "        raw_data = np.frombuffer(f.read(), dtype=np.uint8)\n",
        "        values, counts = raw_data[0::2], raw_data[1::2]\n",
        "        voxels = np.repeat(values, counts).astype(np.bool_)\n",
        "        return voxels.reshape(dims)\n",
        "\n",
        "# --- Dataset -------------------------------------------------------------------\n",
        "class ShapeNetVoxDataset(Dataset):\n",
        "    def __init__(self, root_dir, variant=\"surface\"):\n",
        "        \"\"\"\n",
        "        variant: \"surface\" or \"solid\"\n",
        "        \"\"\"\n",
        "        self.root_dir = root_dir\n",
        "        self.items, self.classes = [], []\n",
        "        self.variant = variant\n",
        "\n",
        "        class_dirs = [d for d in os.listdir(root_dir) if os.path.isdir(os.path.join(root_dir, d))]\n",
        "        class_dirs.sort()\n",
        "        self.classes = class_dirs\n",
        "        self.class_to_idx = {c: i for i, c in enumerate(self.classes)}\n",
        "\n",
        "        for c in self.classes:\n",
        "            class_dir = os.path.join(root_dir, c)\n",
        "            binvox_files = glob.glob(os.path.join(class_dir, \"**\", \"*.binvox\"), recursive=True)\n",
        "            for f in binvox_files:\n",
        "                if variant in f:\n",
        "                    self.items.append((f, self.class_to_idx[c]))\n",
        "            print(f\"[DEBUG] Class {c}: found {len(self.items)} items so far\")\n",
        "\n",
        "    def __len__(self):\n",
        "        return len(self.items)\n",
        "\n",
        "    def __getitem__(self, idx):\n",
        "        filepath, label = self.items[idx]\n",
        "        vox = read_binvox(filepath)\n",
        "        vox = torch.from_numpy(vox).float().unsqueeze(0)\n",
        "        vox = F.interpolate(vox.unsqueeze(0), size=(32,32,32), mode=\"nearest\").squeeze(0)\n",
        "        return vox, label\n",
        "\n",
        "# --- Model ---------------------------------------------------------------------\n",
        "class Small3DCNN(nn.Module):\n",
        "    def __init__(self, num_classes):\n",
        "        super().__init__()\n",
        "        self.conv1 = nn.Conv3d(1, 32, kernel_size=3, padding=1)\n",
        "        self.conv2 = nn.Conv3d(32, 64, kernel_size=3, padding=1)\n",
        "        self.conv3 = nn.Conv3d(64, 128, kernel_size=3, padding=1)\n",
        "        self.pool = nn.MaxPool3d(2)\n",
        "        self.fc1 = nn.Linear(128 * 4 * 4 * 4, 512)\n",
        "        self.fc2 = nn.Linear(512, num_classes)\n",
        "\n",
        "    def forward(self, x):\n",
        "        x = self.pool(F.relu(self.conv1(x)))\n",
        "        x = self.pool(F.relu(self.conv2(x)))\n",
        "        x = self.pool(F.relu(self.conv3(x)))\n",
        "        x = x.view(x.size(0), -1)\n",
        "        x = F.relu(self.fc1(x))\n",
        "        return self.fc2(x)\n",
        "\n",
        "# --- Training Loop -------------------------------------------------------------\n",
        "def run_training(dataset_root=extract_path, epochs=5, batch_size=8, lr=1e-3, variant=\"surface\"):\n",
        "\n",
        "    dataset = ShapeNetVoxDataset(dataset_root, variant=variant)\n",
        "    if len(dataset) == 0:\n",
        "        raise RuntimeError(\"Dataset is empty — check if .binvox files exist!\")\n",
        "\n",
        "    n_classes = len(dataset.classes)\n",
        "    train_size = int(0.8 * len(dataset))\n",
        "    val_size = len(dataset) - train_size\n",
        "    train_dataset, val_dataset = random_split(dataset, [train_size, val_size])\n",
        "\n",
        "    train_loader = DataLoader(train_dataset, batch_size=batch_size, shuffle=True)\n",
        "    val_loader = DataLoader(val_dataset, batch_size=batch_size, shuffle=False)\n",
        "\n",
        "    device = torch.device(\"cuda\" if torch.cuda.is_available() else \"cpu\")\n",
        "    model = Small3DCNN(num_classes=n_classes).to(device)\n",
        "    optimizer = torch.optim.Adam(model.parameters(), lr=lr)\n",
        "    criterion = nn.CrossEntropyLoss()\n",
        "\n",
        "    for epoch in range(epochs):\n",
        "        model.train()\n",
        "        train_loss, correct, total = 0, 0, 0\n",
        "        for vox, labels in train_loader:\n",
        "            vox, labels = vox.to(device), torch.tensor(labels).to(device)\n",
        "            optimizer.zero_grad()\n",
        "            outputs = model(vox)\n",
        "            loss = criterion(outputs, labels)\n",
        "            loss.backward()\n",
        "            optimizer.step()\n",
        "            train_loss += loss.item() * vox.size(0)\n",
        "            _, predicted = outputs.max(1)\n",
        "            total += labels.size(0)\n",
        "            correct += predicted.eq(labels).sum().item()\n",
        "        train_acc = 100. * correct / total\n",
        "\n",
        "        model.eval()\n",
        "        val_loss, correct, total = 0, 0, 0\n",
        "        with torch.no_grad():\n",
        "            for vox, labels in val_loader:\n",
        "                vox, labels = vox.to(device), torch.tensor(labels).to(device)\n",
        "                outputs = model(vox)\n",
        "                loss = criterion(outputs, labels)\n",
        "                val_loss += loss.item() * vox.size(0)\n",
        "                _, predicted = outputs.max(1)\n",
        "                total += labels.size(0)\n",
        "                correct += predicted.eq(labels).sum().item()\n",
        "        val_acc = 100. * correct / total\n",
        "\n",
        "        print(f\"Epoch {epoch+1}/{epochs} \"\n",
        "              f\"- TrainLoss: {train_loss/len(train_loader.dataset):.4f}, TrainAcc: {train_acc:.2f}% \"\n",
        "              f\"- ValLoss: {val_loss/len(val_loader.dataset):.4f}, ValAcc: {val_acc:.2f}%\")\n",
        "\n",
        "    return model\n",
        "\n",
        "# --- Run Training --------------------------------------------------------------\n",
        "model = run_training(epochs=5, batch_size=8, lr=1e-3, variant=\"surface\")\n"
      ],
      "execution_count": 6,
      "outputs": [
        {
          "output_type": "stream",
          "name": "stdout",
          "text": [
            "Top-level classes: ['02808440', '03642806', '02992529', '03211117', '03046257']\n",
            "[DEBUG] Class 02808440: found 856 items so far\n",
            "[DEBUG] Class 02992529: found 1686 items so far\n",
            "[DEBUG] Class 03046257: found 2337 items so far\n",
            "[DEBUG] Class 03211117: found 3427 items so far\n",
            "[DEBUG] Class 03642806: found 3887 items so far\n"
          ]
        },
        {
          "output_type": "stream",
          "name": "stderr",
          "text": [
            "/tmp/ipython-input-2243258162.py:125: UserWarning: To copy construct from a tensor, it is recommended to use sourceTensor.detach().clone() or sourceTensor.detach().clone().requires_grad_(True), rather than torch.tensor(sourceTensor).\n",
            "  vox, labels = vox.to(device), torch.tensor(labels).to(device)\n",
            "/tmp/ipython-input-2243258162.py:141: UserWarning: To copy construct from a tensor, it is recommended to use sourceTensor.detach().clone() or sourceTensor.detach().clone().requires_grad_(True), rather than torch.tensor(sourceTensor).\n",
            "  vox, labels = vox.to(device), torch.tensor(labels).to(device)\n"
          ]
        },
        {
          "output_type": "stream",
          "name": "stdout",
          "text": [
            "Epoch 1/5 - TrainLoss: 0.5122, TrainAcc: 83.95% - ValLoss: 0.3953, ValAcc: 86.12%\n",
            "Epoch 2/5 - TrainLoss: 0.2642, TrainAcc: 91.61% - ValLoss: 0.2795, ValAcc: 89.97%\n",
            "Epoch 3/5 - TrainLoss: 0.1888, TrainAcc: 93.86% - ValLoss: 0.2133, ValAcc: 92.93%\n",
            "Epoch 4/5 - TrainLoss: 0.1352, TrainAcc: 95.72% - ValLoss: 0.2118, ValAcc: 94.34%\n",
            "Epoch 5/5 - TrainLoss: 0.0998, TrainAcc: 97.14% - ValLoss: 0.2836, ValAcc: 92.29%\n"
          ]
        }
      ]
    }
  ]
}